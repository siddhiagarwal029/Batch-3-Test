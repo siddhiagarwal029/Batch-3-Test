{
  "metadata": {
    "kernelspec": {
      "language": "python",
      "display_name": "Python 3",
      "name": "python3"
    },
    "language_info": {
      "pygments_lexer": "ipython3",
      "nbconvert_exporter": "python",
      "version": "3.6.4",
      "file_extension": ".py",
      "codemirror_mode": {
        "name": "ipython",
        "version": 3
      },
      "name": "python",
      "mimetype": "text/x-python"
    },
    "colab": {
      "provenance": [],
      "include_colab_link": true
    }
  },
  "nbformat_minor": 0,
  "nbformat": 4,
  "cells": [
    {
      "cell_type": "markdown",
      "metadata": {
        "id": "view-in-github",
        "colab_type": "text"
      },
      "source": [
        "<a href=\"https://colab.research.google.com/github/siddhiagarwal029/Batch-3-Test/blob/master/Satellite_Imagery_Analysis_using_Python.ipynb\" target=\"_parent\"><img src=\"https://colab.research.google.com/assets/colab-badge.svg\" alt=\"Open In Colab\"/></a>"
      ]
    },
    {
      "source": [
        "# IMPORTANT: RUN THIS CELL IN ORDER TO IMPORT YOUR KAGGLE DATA SOURCES,\n",
        "# THEN FEEL FREE TO DELETE THIS CELL.\n",
        "# NOTE: THIS NOTEBOOK ENVIRONMENT DIFFERS FROM KAGGLE'S PYTHON\n",
        "# ENVIRONMENT SO THERE MAY BE MISSING LIBRARIES USED BY YOUR\n",
        "# NOTEBOOK.\n",
        "import kagglehub\n",
        "gauravduttakiit_satellite_imagery_path = kagglehub.dataset_download('gauravduttakiit/satellite-imagery')\n",
        "\n",
        "print('Data source import complete.')\n"
      ],
      "metadata": {
        "id": "1tSNMp_du2hK",
        "outputId": "362825df-d930-4b6c-ccdf-cabaf9d8fee1",
        "colab": {
          "base_uri": "https://localhost:8080/"
        }
      },
      "cell_type": "code",
      "outputs": [
        {
          "output_type": "stream",
          "name": "stdout",
          "text": [
            "Downloading from https://www.kaggle.com/api/v1/datasets/download/gauravduttakiit/satellite-imagery?dataset_version_number=1...\n"
          ]
        },
        {
          "output_type": "stream",
          "name": "stderr",
          "text": [
            "100%|██████████| 35.9M/35.9M [00:00<00:00, 106MB/s] "
          ]
        },
        {
          "output_type": "stream",
          "name": "stdout",
          "text": [
            "Extracting files...\n"
          ]
        },
        {
          "output_type": "stream",
          "name": "stderr",
          "text": [
            "\n"
          ]
        },
        {
          "output_type": "stream",
          "name": "stdout",
          "text": [
            "Data source import complete.\n"
          ]
        }
      ],
      "execution_count": null
    },
    {
      "cell_type": "code",
      "source": [
        "!mkdir -p ~/.kaggle\n",
        "!cp kaggle.json ~/.kaggle/\n",
        "!chmod 600 ~/.kaggle/kaggle.json\n"
      ],
      "metadata": {
        "id": "nML41NXjTnZY"
      },
      "execution_count": null,
      "outputs": []
    },
    {
      "cell_type": "code",
      "source": [
        "!kaggle datasets download -d gauravduttakiit/satellite-imagery-analysis-main\n"
      ],
      "metadata": {
        "colab": {
          "base_uri": "https://localhost:8080/"
        },
        "id": "C0AYFKC3TzTc",
        "outputId": "b860d63b-689d-4582-e225-2e59f5bbd2e8"
      },
      "execution_count": null,
      "outputs": [
        {
          "output_type": "stream",
          "name": "stdout",
          "text": [
            "403 Client Error: Forbidden for url: https://www.kaggle.com/api/v1/datasets/metadata/gauravduttakiit/satellite-imagery-analysis-main\n"
          ]
        }
      ]
    },
    {
      "cell_type": "code",
      "source": [
        "from glob import glob"
      ],
      "metadata": {
        "execution": {
          "iopub.status.busy": "2021-07-04T01:01:23.475858Z",
          "iopub.execute_input": "2021-07-04T01:01:23.476435Z",
          "iopub.status.idle": "2021-07-04T01:01:23.481779Z",
          "shell.execute_reply.started": "2021-07-04T01:01:23.476324Z",
          "shell.execute_reply": "2021-07-04T01:01:23.480828Z"
        },
        "trusted": true,
        "id": "tBhyi-fzu2hL"
      },
      "execution_count": null,
      "outputs": []
    },
    {
      "cell_type": "code",
      "source": [
        "pip install earthpy"
      ],
      "metadata": {
        "_kg_hide-output": true,
        "execution": {
          "iopub.status.busy": "2021-07-04T01:01:23.602607Z",
          "iopub.execute_input": "2021-07-04T01:01:23.602957Z",
          "iopub.status.idle": "2021-07-04T01:01:41.055263Z",
          "shell.execute_reply.started": "2021-07-04T01:01:23.602921Z",
          "shell.execute_reply": "2021-07-04T01:01:41.054166Z"
        },
        "trusted": true,
        "id": "eHabxkqau2hL",
        "colab": {
          "base_uri": "https://localhost:8080/"
        },
        "outputId": "d911792d-b5ef-406a-9ab2-0f9727f5b7b1"
      },
      "execution_count": null,
      "outputs": [
        {
          "output_type": "stream",
          "name": "stdout",
          "text": [
            "Collecting earthpy\n",
            "  Downloading earthpy-0.9.4-py3-none-any.whl.metadata (9.2 kB)\n",
            "Requirement already satisfied: geopandas in /usr/local/lib/python3.11/dist-packages (from earthpy) (1.0.1)\n",
            "Requirement already satisfied: matplotlib>=2.0.0 in /usr/local/lib/python3.11/dist-packages (from earthpy) (3.10.0)\n",
            "Requirement already satisfied: numpy>=1.14.0 in /usr/local/lib/python3.11/dist-packages (from earthpy) (2.0.2)\n",
            "Collecting rasterio (from earthpy)\n",
            "  Downloading rasterio-1.4.3-cp311-cp311-manylinux_2_17_x86_64.manylinux2014_x86_64.whl.metadata (9.1 kB)\n",
            "Requirement already satisfied: scikit-image in /usr/local/lib/python3.11/dist-packages (from earthpy) (0.25.2)\n",
            "Requirement already satisfied: requests in /usr/local/lib/python3.11/dist-packages (from earthpy) (2.32.3)\n",
            "Requirement already satisfied: contourpy>=1.0.1 in /usr/local/lib/python3.11/dist-packages (from matplotlib>=2.0.0->earthpy) (1.3.2)\n",
            "Requirement already satisfied: cycler>=0.10 in /usr/local/lib/python3.11/dist-packages (from matplotlib>=2.0.0->earthpy) (0.12.1)\n",
            "Requirement already satisfied: fonttools>=4.22.0 in /usr/local/lib/python3.11/dist-packages (from matplotlib>=2.0.0->earthpy) (4.58.4)\n",
            "Requirement already satisfied: kiwisolver>=1.3.1 in /usr/local/lib/python3.11/dist-packages (from matplotlib>=2.0.0->earthpy) (1.4.8)\n",
            "Requirement already satisfied: packaging>=20.0 in /usr/local/lib/python3.11/dist-packages (from matplotlib>=2.0.0->earthpy) (24.2)\n",
            "Requirement already satisfied: pillow>=8 in /usr/local/lib/python3.11/dist-packages (from matplotlib>=2.0.0->earthpy) (11.2.1)\n",
            "Requirement already satisfied: pyparsing>=2.3.1 in /usr/local/lib/python3.11/dist-packages (from matplotlib>=2.0.0->earthpy) (3.2.3)\n",
            "Requirement already satisfied: python-dateutil>=2.7 in /usr/local/lib/python3.11/dist-packages (from matplotlib>=2.0.0->earthpy) (2.9.0.post0)\n",
            "Requirement already satisfied: pyogrio>=0.7.2 in /usr/local/lib/python3.11/dist-packages (from geopandas->earthpy) (0.11.0)\n",
            "Requirement already satisfied: pandas>=1.4.0 in /usr/local/lib/python3.11/dist-packages (from geopandas->earthpy) (2.2.2)\n",
            "Requirement already satisfied: pyproj>=3.3.0 in /usr/local/lib/python3.11/dist-packages (from geopandas->earthpy) (3.7.1)\n",
            "Requirement already satisfied: shapely>=2.0.0 in /usr/local/lib/python3.11/dist-packages (from geopandas->earthpy) (2.1.1)\n",
            "Collecting affine (from rasterio->earthpy)\n",
            "  Downloading affine-2.4.0-py3-none-any.whl.metadata (4.0 kB)\n",
            "Requirement already satisfied: attrs in /usr/local/lib/python3.11/dist-packages (from rasterio->earthpy) (25.3.0)\n",
            "Requirement already satisfied: certifi in /usr/local/lib/python3.11/dist-packages (from rasterio->earthpy) (2025.6.15)\n",
            "Requirement already satisfied: click>=4.0 in /usr/local/lib/python3.11/dist-packages (from rasterio->earthpy) (8.2.1)\n",
            "Collecting cligj>=0.5 (from rasterio->earthpy)\n",
            "  Downloading cligj-0.7.2-py3-none-any.whl.metadata (5.0 kB)\n",
            "Collecting click-plugins (from rasterio->earthpy)\n",
            "  Downloading click_plugins-1.1.1.2-py2.py3-none-any.whl.metadata (6.5 kB)\n",
            "Requirement already satisfied: charset-normalizer<4,>=2 in /usr/local/lib/python3.11/dist-packages (from requests->earthpy) (3.4.2)\n",
            "Requirement already satisfied: idna<4,>=2.5 in /usr/local/lib/python3.11/dist-packages (from requests->earthpy) (3.10)\n",
            "Requirement already satisfied: urllib3<3,>=1.21.1 in /usr/local/lib/python3.11/dist-packages (from requests->earthpy) (2.4.0)\n",
            "Requirement already satisfied: scipy>=1.11.4 in /usr/local/lib/python3.11/dist-packages (from scikit-image->earthpy) (1.15.3)\n",
            "Requirement already satisfied: networkx>=3.0 in /usr/local/lib/python3.11/dist-packages (from scikit-image->earthpy) (3.5)\n",
            "Requirement already satisfied: imageio!=2.35.0,>=2.33 in /usr/local/lib/python3.11/dist-packages (from scikit-image->earthpy) (2.37.0)\n",
            "Requirement already satisfied: tifffile>=2022.8.12 in /usr/local/lib/python3.11/dist-packages (from scikit-image->earthpy) (2025.6.11)\n",
            "Requirement already satisfied: lazy-loader>=0.4 in /usr/local/lib/python3.11/dist-packages (from scikit-image->earthpy) (0.4)\n",
            "Requirement already satisfied: pytz>=2020.1 in /usr/local/lib/python3.11/dist-packages (from pandas>=1.4.0->geopandas->earthpy) (2025.2)\n",
            "Requirement already satisfied: tzdata>=2022.7 in /usr/local/lib/python3.11/dist-packages (from pandas>=1.4.0->geopandas->earthpy) (2025.2)\n",
            "Requirement already satisfied: six>=1.5 in /usr/local/lib/python3.11/dist-packages (from python-dateutil>=2.7->matplotlib>=2.0.0->earthpy) (1.17.0)\n",
            "Downloading earthpy-0.9.4-py3-none-any.whl (1.4 MB)\n",
            "\u001b[2K   \u001b[90m━━━━━━━━━━━━━━━━━━━━━━━━━━━━━━━━━━━━━━━━\u001b[0m \u001b[32m1.4/1.4 MB\u001b[0m \u001b[31m15.6 MB/s\u001b[0m eta \u001b[36m0:00:00\u001b[0m\n",
            "\u001b[?25hDownloading rasterio-1.4.3-cp311-cp311-manylinux_2_17_x86_64.manylinux2014_x86_64.whl (22.2 MB)\n",
            "\u001b[2K   \u001b[90m━━━━━━━━━━━━━━━━━━━━━━━━━━━━━━━━━━━━━━━━\u001b[0m \u001b[32m22.2/22.2 MB\u001b[0m \u001b[31m87.6 MB/s\u001b[0m eta \u001b[36m0:00:00\u001b[0m\n",
            "\u001b[?25hDownloading cligj-0.7.2-py3-none-any.whl (7.1 kB)\n",
            "Downloading affine-2.4.0-py3-none-any.whl (15 kB)\n",
            "Downloading click_plugins-1.1.1.2-py2.py3-none-any.whl (11 kB)\n",
            "Installing collected packages: cligj, click-plugins, affine, rasterio, earthpy\n",
            "Successfully installed affine-2.4.0 click-plugins-1.1.1.2 cligj-0.7.2 earthpy-0.9.4 rasterio-1.4.3\n"
          ]
        }
      ]
    },
    {
      "cell_type": "code",
      "source": [
        "import earthpy as et\n",
        "import earthpy.spatial as es\n",
        "import earthpy.plot as ep"
      ],
      "metadata": {
        "execution": {
          "iopub.status.busy": "2021-07-04T01:01:41.057695Z",
          "iopub.execute_input": "2021-07-04T01:01:41.058128Z",
          "iopub.status.idle": "2021-07-04T01:01:42.687438Z",
          "shell.execute_reply.started": "2021-07-04T01:01:41.058077Z",
          "shell.execute_reply": "2021-07-04T01:01:42.686199Z"
        },
        "trusted": true,
        "id": "c4LHv2FCu2hM"
      },
      "execution_count": null,
      "outputs": []
    },
    {
      "cell_type": "code",
      "source": [
        "import rasterio as rio"
      ],
      "metadata": {
        "execution": {
          "iopub.status.busy": "2021-07-04T01:01:42.689254Z",
          "iopub.execute_input": "2021-07-04T01:01:42.68965Z",
          "iopub.status.idle": "2021-07-04T01:01:42.694664Z",
          "shell.execute_reply.started": "2021-07-04T01:01:42.689607Z",
          "shell.execute_reply": "2021-07-04T01:01:42.693673Z"
        },
        "trusted": true,
        "id": "91e05dN4u2hM"
      },
      "execution_count": null,
      "outputs": []
    },
    {
      "cell_type": "code",
      "source": [
        "import matplotlib.pyplot as plt\n",
        "import numpy as np\n",
        "from matplotlib.colors import ListedColormap"
      ],
      "metadata": {
        "execution": {
          "iopub.status.busy": "2021-07-04T01:01:42.69638Z",
          "iopub.execute_input": "2021-07-04T01:01:42.696794Z",
          "iopub.status.idle": "2021-07-04T01:01:42.706081Z",
          "shell.execute_reply.started": "2021-07-04T01:01:42.696755Z",
          "shell.execute_reply": "2021-07-04T01:01:42.705356Z"
        },
        "trusted": true,
        "id": "hdCSkiryu2hM"
      },
      "execution_count": null,
      "outputs": []
    },
    {
      "cell_type": "code",
      "source": [
        "import plotly.graph_objects as go"
      ],
      "metadata": {
        "execution": {
          "iopub.status.busy": "2021-07-04T01:01:42.710322Z",
          "iopub.execute_input": "2021-07-04T01:01:42.710771Z",
          "iopub.status.idle": "2021-07-04T01:01:42.726372Z",
          "shell.execute_reply.started": "2021-07-04T01:01:42.710731Z",
          "shell.execute_reply": "2021-07-04T01:01:42.725306Z"
        },
        "trusted": true,
        "id": "i5NShPBuu2hM"
      },
      "execution_count": null,
      "outputs": []
    },
    {
      "cell_type": "code",
      "source": [
        "import os\n",
        "print(os.getcwd())\n",
        "print(os.listdir())\n",
        "\n"
      ],
      "metadata": {
        "colab": {
          "base_uri": "https://localhost:8080/"
        },
        "id": "vWPRyHXaQC0a",
        "outputId": "57c6073a-c434-4f74-a86c-352938e16045"
      },
      "execution_count": null,
      "outputs": [
        {
          "output_type": "stream",
          "name": "stdout",
          "text": [
            "/content\n",
            "['.config', 'sample_data']\n"
          ]
        }
      ]
    },
    {
      "cell_type": "code",
      "source": [
        "from glob import glob\n",
        "S_sentinel_bands = glob(\"../input/satellite-imagery/Satellite_Imagery_Analysis-main/Data/sundarbans_data/*B?*.tiff\")\n",
        "print(\"Found files:\", len(S_sentinel_bands))\n",
        "print(S_sentinel_bands)\n"
      ],
      "metadata": {
        "colab": {
          "base_uri": "https://localhost:8080/"
        },
        "id": "ExBaEAoOPwWr",
        "outputId": "6e0b0da9-8d4e-45fb-d76a-a956a990315d"
      },
      "execution_count": null,
      "outputs": [
        {
          "output_type": "stream",
          "name": "stdout",
          "text": [
            "Found files: 0\n",
            "[]\n"
          ]
        }
      ]
    },
    {
      "cell_type": "code",
      "source": [
        "!ls ../input/satellite-imagery/Satellite_Imagery_Analysis-main/Data/sundarbans_data\n"
      ],
      "metadata": {
        "colab": {
          "base_uri": "https://localhost:8080/"
        },
        "id": "qJJLZJKwP4Xa",
        "outputId": "d367395d-d741-4f66-83c3-a5fd60a07155"
      },
      "execution_count": null,
      "outputs": [
        {
          "output_type": "stream",
          "name": "stdout",
          "text": [
            "ls: cannot access '../input/satellite-imagery/Satellite_Imagery_Analysis-main/Data/sundarbans_data': No such file or directory\n"
          ]
        }
      ]
    },
    {
      "cell_type": "markdown",
      "source": [
        "# Read Data"
      ],
      "metadata": {
        "id": "t5cv8t9Su2hM"
      }
    },
    {
      "cell_type": "code",
      "source": [
        "np.seterr(divide='ignore', invalid='ignore')\n",
        "S_sentinel_bands = glob(\"../input/satellite-imagery/Satellite_Imagery_Analysis-main/Data/sundarbans_data/*B?*.tiff\")\n",
        "S_sentinel_bands.sort()"
      ],
      "metadata": {
        "execution": {
          "iopub.status.busy": "2021-07-04T01:01:42.728315Z",
          "iopub.execute_input": "2021-07-04T01:01:42.72886Z",
          "iopub.status.idle": "2021-07-04T01:01:42.745188Z",
          "shell.execute_reply.started": "2021-07-04T01:01:42.72882Z",
          "shell.execute_reply": "2021-07-04T01:01:42.744375Z"
        },
        "trusted": true,
        "id": "GPfl-X6du2hN"
      },
      "execution_count": null,
      "outputs": []
    },
    {
      "cell_type": "markdown",
      "source": [
        "# Visualize Bands"
      ],
      "metadata": {
        "id": "X6VRj8ENu2hN"
      }
    },
    {
      "cell_type": "code",
      "source": [
        "l = []\n",
        "for i in S_sentinel_bands:\n",
        "    with rio.open(i, 'r') as f:\n",
        "        l.append(f.read(1))\n",
        "arr_st = np.stack(l)\n",
        "ep.plot_bands(arr_st, cmap = 'gist_earth', figsize = (20, 12), cols = 6, cbar = False)\n",
        "plt.show()"
      ],
      "metadata": {
        "execution": {
          "iopub.status.busy": "2021-07-04T01:01:42.746371Z",
          "iopub.execute_input": "2021-07-04T01:01:42.746632Z",
          "iopub.status.idle": "2021-07-04T01:01:45.255653Z",
          "shell.execute_reply.started": "2021-07-04T01:01:42.746607Z",
          "shell.execute_reply": "2021-07-04T01:01:45.253009Z"
        },
        "trusted": true,
        "id": "Yku_xDFVu2hO",
        "colab": {
          "base_uri": "https://localhost:8080/",
          "height": 332
        },
        "outputId": "a0582071-beac-4516-e884-6cfba38b5382"
      },
      "execution_count": null,
      "outputs": [
        {
          "output_type": "error",
          "ename": "ValueError",
          "evalue": "need at least one array to stack",
          "traceback": [
            "\u001b[0;31m---------------------------------------------------------------------------\u001b[0m",
            "\u001b[0;31mValueError\u001b[0m                                Traceback (most recent call last)",
            "\u001b[0;32m/tmp/ipython-input-9-4085557778.py\u001b[0m in \u001b[0;36m<cell line: 0>\u001b[0;34m()\u001b[0m\n\u001b[1;32m      3\u001b[0m     \u001b[0;32mwith\u001b[0m \u001b[0mrio\u001b[0m\u001b[0;34m.\u001b[0m\u001b[0mopen\u001b[0m\u001b[0;34m(\u001b[0m\u001b[0mi\u001b[0m\u001b[0;34m,\u001b[0m \u001b[0;34m'r'\u001b[0m\u001b[0;34m)\u001b[0m \u001b[0;32mas\u001b[0m \u001b[0mf\u001b[0m\u001b[0;34m:\u001b[0m\u001b[0;34m\u001b[0m\u001b[0;34m\u001b[0m\u001b[0m\n\u001b[1;32m      4\u001b[0m         \u001b[0ml\u001b[0m\u001b[0;34m.\u001b[0m\u001b[0mappend\u001b[0m\u001b[0;34m(\u001b[0m\u001b[0mf\u001b[0m\u001b[0;34m.\u001b[0m\u001b[0mread\u001b[0m\u001b[0;34m(\u001b[0m\u001b[0;36m1\u001b[0m\u001b[0;34m)\u001b[0m\u001b[0;34m)\u001b[0m\u001b[0;34m\u001b[0m\u001b[0;34m\u001b[0m\u001b[0m\n\u001b[0;32m----> 5\u001b[0;31m \u001b[0marr_st\u001b[0m \u001b[0;34m=\u001b[0m \u001b[0mnp\u001b[0m\u001b[0;34m.\u001b[0m\u001b[0mstack\u001b[0m\u001b[0;34m(\u001b[0m\u001b[0ml\u001b[0m\u001b[0;34m)\u001b[0m\u001b[0;34m\u001b[0m\u001b[0;34m\u001b[0m\u001b[0m\n\u001b[0m\u001b[1;32m      6\u001b[0m \u001b[0mep\u001b[0m\u001b[0;34m.\u001b[0m\u001b[0mplot_bands\u001b[0m\u001b[0;34m(\u001b[0m\u001b[0marr_st\u001b[0m\u001b[0;34m,\u001b[0m \u001b[0mcmap\u001b[0m \u001b[0;34m=\u001b[0m \u001b[0;34m'gist_earth'\u001b[0m\u001b[0;34m,\u001b[0m \u001b[0mfigsize\u001b[0m \u001b[0;34m=\u001b[0m \u001b[0;34m(\u001b[0m\u001b[0;36m20\u001b[0m\u001b[0;34m,\u001b[0m \u001b[0;36m12\u001b[0m\u001b[0;34m)\u001b[0m\u001b[0;34m,\u001b[0m \u001b[0mcols\u001b[0m \u001b[0;34m=\u001b[0m \u001b[0;36m6\u001b[0m\u001b[0;34m,\u001b[0m \u001b[0mcbar\u001b[0m \u001b[0;34m=\u001b[0m \u001b[0;32mFalse\u001b[0m\u001b[0;34m)\u001b[0m\u001b[0;34m\u001b[0m\u001b[0;34m\u001b[0m\u001b[0m\n\u001b[1;32m      7\u001b[0m \u001b[0mplt\u001b[0m\u001b[0;34m.\u001b[0m\u001b[0mshow\u001b[0m\u001b[0;34m(\u001b[0m\u001b[0;34m)\u001b[0m\u001b[0;34m\u001b[0m\u001b[0;34m\u001b[0m\u001b[0m\n",
            "\u001b[0;32m/usr/local/lib/python3.11/dist-packages/numpy/_core/shape_base.py\u001b[0m in \u001b[0;36mstack\u001b[0;34m(arrays, axis, out, dtype, casting)\u001b[0m\n\u001b[1;32m    442\u001b[0m     \u001b[0marrays\u001b[0m \u001b[0;34m=\u001b[0m \u001b[0;34m[\u001b[0m\u001b[0masanyarray\u001b[0m\u001b[0;34m(\u001b[0m\u001b[0marr\u001b[0m\u001b[0;34m)\u001b[0m \u001b[0;32mfor\u001b[0m \u001b[0marr\u001b[0m \u001b[0;32min\u001b[0m \u001b[0marrays\u001b[0m\u001b[0;34m]\u001b[0m\u001b[0;34m\u001b[0m\u001b[0;34m\u001b[0m\u001b[0m\n\u001b[1;32m    443\u001b[0m     \u001b[0;32mif\u001b[0m \u001b[0;32mnot\u001b[0m \u001b[0marrays\u001b[0m\u001b[0;34m:\u001b[0m\u001b[0;34m\u001b[0m\u001b[0;34m\u001b[0m\u001b[0m\n\u001b[0;32m--> 444\u001b[0;31m         \u001b[0;32mraise\u001b[0m \u001b[0mValueError\u001b[0m\u001b[0;34m(\u001b[0m\u001b[0;34m'need at least one array to stack'\u001b[0m\u001b[0;34m)\u001b[0m\u001b[0;34m\u001b[0m\u001b[0;34m\u001b[0m\u001b[0m\n\u001b[0m\u001b[1;32m    445\u001b[0m \u001b[0;34m\u001b[0m\u001b[0m\n\u001b[1;32m    446\u001b[0m     \u001b[0mshapes\u001b[0m \u001b[0;34m=\u001b[0m \u001b[0;34m{\u001b[0m\u001b[0marr\u001b[0m\u001b[0;34m.\u001b[0m\u001b[0mshape\u001b[0m \u001b[0;32mfor\u001b[0m \u001b[0marr\u001b[0m \u001b[0;32min\u001b[0m \u001b[0marrays\u001b[0m\u001b[0;34m}\u001b[0m\u001b[0;34m\u001b[0m\u001b[0;34m\u001b[0m\u001b[0m\n",
            "\u001b[0;31mValueError\u001b[0m: need at least one array to stack"
          ]
        }
      ]
    },
    {
      "source": [
        "from glob import glob\n",
        "import rasterio as rio\n",
        "import numpy as np\n",
        "import earthpy.plot as ep\n",
        "import matplotlib.pyplot as plt\n",
        "\n",
        "# Ensure the path is correct relative to your notebook's location\n",
        "S_sentinel_bands = glob(\"../input/satellite-imagery/Satellite_Imagery_Analysis-main/Data/sundarbans_data/*B?*.tiff\")\n",
        "S_sentinel_bands.sort()\n",
        "\n",
        "l = []\n",
        "for i in S_sentinel_bands:\n",
        "    # Check if the file exists before opening\n",
        "    if os.path.exists(i):\n",
        "        with rio.open(i, 'r') as f:\n",
        "            l.append(f.read(1))\n",
        "    else:\n",
        "        print(f\"File not found: {i}\")  # Print an error message if file not found\n",
        "\n",
        "# Check if l is empty before stacking\n",
        "if l:\n",
        "    arr_st = np.stack(l)\n",
        "    ep.plot_bands(arr_st, cmap='gist_earth', figsize=(20, 12), cols=6, cbar=False)\n",
        "    plt.show()\n",
        "else:\n",
        "    print(\"No data found in the specified files.\")"
      ],
      "cell_type": "code",
      "metadata": {
        "id": "I9u5yuBhvXXo",
        "outputId": "788f6ecb-1019-460c-9949-6be84424068a",
        "colab": {
          "base_uri": "https://localhost:8080/"
        }
      },
      "execution_count": null,
      "outputs": [
        {
          "output_type": "stream",
          "name": "stdout",
          "text": [
            "No data found in the specified files.\n"
          ]
        }
      ]
    },
    {
      "cell_type": "markdown",
      "source": [
        "# RGB Composite Image"
      ],
      "metadata": {
        "id": "5A9B8gYSu2hO"
      }
    },
    {
      "cell_type": "code",
      "source": [
        "#RGB Composite Image\n",
        "\n",
        "rgb = ep.plot_rgb(arr_st,\n",
        "                  rgb=(3,2,1),\n",
        "                  figsize=(10, 16))\n",
        "plt.show()\n",
        "\n"
      ],
      "metadata": {
        "execution": {
          "iopub.status.busy": "2021-07-04T01:01:45.257047Z",
          "iopub.execute_input": "2021-07-04T01:01:45.257354Z",
          "iopub.status.idle": "2021-07-04T01:01:45.59351Z",
          "shell.execute_reply.started": "2021-07-04T01:01:45.257324Z",
          "shell.execute_reply": "2021-07-04T01:01:45.59286Z"
        },
        "trusted": true,
        "id": "SVbqLZLUu2hO",
        "colab": {
          "base_uri": "https://localhost:8080/",
          "height": 211
        },
        "outputId": "6022c2f8-8071-46bf-df9e-5950f162c4c7"
      },
      "execution_count": null,
      "outputs": [
        {
          "output_type": "error",
          "ename": "NameError",
          "evalue": "name 'arr_st' is not defined",
          "traceback": [
            "\u001b[0;31m---------------------------------------------------------------------------\u001b[0m",
            "\u001b[0;31mNameError\u001b[0m                                 Traceback (most recent call last)",
            "\u001b[0;32m<ipython-input-11-cab549c5d109>\u001b[0m in \u001b[0;36m<cell line: 0>\u001b[0;34m()\u001b[0m\n\u001b[1;32m      1\u001b[0m \u001b[0;31m#RGB Composite Image\u001b[0m\u001b[0;34m\u001b[0m\u001b[0;34m\u001b[0m\u001b[0m\n\u001b[1;32m      2\u001b[0m \u001b[0;34m\u001b[0m\u001b[0m\n\u001b[0;32m----> 3\u001b[0;31m rgb = ep.plot_rgb(arr_st,\n\u001b[0m\u001b[1;32m      4\u001b[0m                   \u001b[0mrgb\u001b[0m\u001b[0;34m=\u001b[0m\u001b[0;34m(\u001b[0m\u001b[0;36m3\u001b[0m\u001b[0;34m,\u001b[0m\u001b[0;36m2\u001b[0m\u001b[0;34m,\u001b[0m\u001b[0;36m1\u001b[0m\u001b[0;34m)\u001b[0m\u001b[0;34m,\u001b[0m\u001b[0;34m\u001b[0m\u001b[0;34m\u001b[0m\u001b[0m\n\u001b[1;32m      5\u001b[0m                   figsize=(10, 16))\n",
            "\u001b[0;31mNameError\u001b[0m: name 'arr_st' is not defined"
          ]
        }
      ]
    },
    {
      "cell_type": "code",
      "source": [
        "# RGB Composite Image with Strech\n",
        "\n",
        "ep.plot_rgb(arr_st,\n",
        "            rgb=(3, 2, 1),\n",
        "            stretch=True,\n",
        "            str_clip=0.2,\n",
        "            figsize=(10, 16))\n",
        "plt.show()\n",
        "ep.plot_rgb(\n",
        "    arr_st,\n",
        "    rgb=(3, 2, 1),\n",
        "    stretch=True,\n",
        "    str_clip=0.2,\n",
        "    figsize=(10, 16),\n",
        "    # title=\"RGB Composite Image with Stretch Applied\",\n",
        ")\n",
        "\n",
        "plt.show()"
      ],
      "metadata": {
        "execution": {
          "iopub.status.busy": "2021-07-04T01:01:45.594488Z",
          "iopub.execute_input": "2021-07-04T01:01:45.594877Z",
          "iopub.status.idle": "2021-07-04T01:01:46.167934Z",
          "shell.execute_reply.started": "2021-07-04T01:01:45.59485Z",
          "shell.execute_reply": "2021-07-04T01:01:46.167088Z"
        },
        "trusted": true,
        "id": "4HvsZGQfu2hO"
      },
      "execution_count": null,
      "outputs": []
    },
    {
      "cell_type": "code",
      "source": [
        "# Histograms"
      ],
      "metadata": {
        "execution": {
          "iopub.status.busy": "2021-07-04T01:01:46.169406Z",
          "iopub.execute_input": "2021-07-04T01:01:46.169737Z",
          "iopub.status.idle": "2021-07-04T01:01:46.173706Z",
          "shell.execute_reply.started": "2021-07-04T01:01:46.169682Z",
          "shell.execute_reply": "2021-07-04T01:01:46.172536Z"
        },
        "trusted": true,
        "id": "zyIBcm73u2hP"
      },
      "execution_count": null,
      "outputs": []
    },
    {
      "cell_type": "markdown",
      "source": [
        "# Histograms"
      ],
      "metadata": {
        "id": "2kYXgbn5u2hP"
      }
    },
    {
      "cell_type": "code",
      "source": [
        "colors = ['tomato', 'navy', 'MediumSpringGreen', 'lightblue', 'orange', 'blue',\n",
        "          'maroon', 'purple', 'yellow', 'olive', 'brown', 'cyan']\n",
        "ep.hist(arr_st,\n",
        "         colors = colors,\n",
        "        title=[f'Band-{i}' for i in range(1, 13)],\n",
        "        cols=3,\n",
        "        alpha=0.5,\n",
        "        figsize = (12, 10)\n",
        "        )\n",
        "\n",
        "plt.show()"
      ],
      "metadata": {
        "execution": {
          "iopub.status.busy": "2021-07-04T01:01:46.174802Z",
          "iopub.execute_input": "2021-07-04T01:01:46.175068Z",
          "iopub.status.idle": "2021-07-04T01:01:47.620121Z",
          "shell.execute_reply.started": "2021-07-04T01:01:46.175043Z",
          "shell.execute_reply": "2021-07-04T01:01:47.619223Z"
        },
        "trusted": true,
        "id": "RSRUDdgau2hP"
      },
      "execution_count": null,
      "outputs": []
    },
    {
      "cell_type": "code",
      "source": [
        "ndvi = es.normalized_diff(arr_st[7], arr_st[3])\n",
        "ep.plot_bands(ndvi, cmap=\"RdYlGn\", cols=1, vmin=-1, vmax=1, figsize=(10, 14))\n",
        "plt.show()"
      ],
      "metadata": {
        "execution": {
          "iopub.status.busy": "2021-07-04T01:01:47.621623Z",
          "iopub.execute_input": "2021-07-04T01:01:47.622045Z",
          "iopub.status.idle": "2021-07-04T01:01:47.888933Z",
          "shell.execute_reply.started": "2021-07-04T01:01:47.622004Z",
          "shell.execute_reply": "2021-07-04T01:01:47.887686Z"
        },
        "trusted": true,
        "id": "J4kbCYmbu2hP"
      },
      "execution_count": null,
      "outputs": []
    },
    {
      "cell_type": "markdown",
      "source": [
        "# Vegetation and Soil Indices"
      ],
      "metadata": {
        "id": "cHXeCdIxu2hP"
      }
    },
    {
      "cell_type": "markdown",
      "source": [
        "## Normalized Difference Vegetation Index (NDVI)"
      ],
      "metadata": {
        "id": "10tkAQw3u2hP"
      }
    },
    {
      "cell_type": "markdown",
      "source": [
        "To determine the density of green on a patch of land, researchers must observe the distinct colors (wavelengths) of visible(VIS) and near-infrared (NIR)sunlight reflected by the plants. The Normalized Difference Vegetation Index (NDVI) quantifies vegetation by measuring the difference between near-infrared which vegetation strongly reflects and red light (which vegetation absorbs). NDVI always ranges from -1 to +1."
      ],
      "metadata": {
        "id": "cHjMV5_mu2hQ"
      }
    },
    {
      "cell_type": "code",
      "source": [
        "ndvi = es.normalized_diff(arr_st[7], arr_st[3])\n",
        "\n",
        "ep.plot_bands(ndvi, cmap=\"RdYlGn\", cols=1, vmin=-1, vmax=1, figsize=(10, 14))\n",
        "\n",
        "plt.show()"
      ],
      "metadata": {
        "execution": {
          "iopub.status.busy": "2021-07-04T01:01:47.89065Z",
          "iopub.execute_input": "2021-07-04T01:01:47.891169Z",
          "iopub.status.idle": "2021-07-04T01:01:48.159087Z",
          "shell.execute_reply.started": "2021-07-04T01:01:47.891119Z",
          "shell.execute_reply": "2021-07-04T01:01:48.158072Z"
        },
        "trusted": true,
        "id": "lHzEgqXBu2hQ"
      },
      "execution_count": null,
      "outputs": []
    },
    {
      "cell_type": "markdown",
      "source": [
        "# Soil Adjusted Vegetation Index (SAVI)"
      ],
      "metadata": {
        "id": "g3fbHWbZu2hQ"
      }
    },
    {
      "cell_type": "markdown",
      "source": [
        "The Soil-Adjusted Vegetation Index (SAVI) is a vegetation index that attempts to minimize soil brightness influences using a soil-brightness correction factor. This is often used in arid regions where vegetative cover is low."
      ],
      "metadata": {
        "id": "nBozn9Mru2hQ"
      }
    },
    {
      "cell_type": "code",
      "source": [
        "L = 0.5\n",
        "\n",
        "savi = ((arr_st[7] - arr_st[3]) / (arr_st[7] + arr_st[3] + L)) * (1 + L)\n",
        "\n",
        "ep.plot_bands(savi, cmap=\"RdYlGn\", cols=1, vmin=-1, vmax=1, figsize=(10, 14))\n",
        "\n",
        "plt.show()"
      ],
      "metadata": {
        "execution": {
          "iopub.status.busy": "2021-07-04T01:01:48.160894Z",
          "iopub.execute_input": "2021-07-04T01:01:48.161273Z",
          "iopub.status.idle": "2021-07-04T01:01:48.406853Z",
          "shell.execute_reply.started": "2021-07-04T01:01:48.161233Z",
          "shell.execute_reply": "2021-07-04T01:01:48.405902Z"
        },
        "trusted": true,
        "id": "lUJT17Cku2hQ"
      },
      "execution_count": null,
      "outputs": []
    },
    {
      "cell_type": "markdown",
      "source": [
        "# Visible Atmospherically Resistant Index (VARI)"
      ],
      "metadata": {
        "id": "eoJnHSDtu2hQ"
      }
    },
    {
      "cell_type": "markdown",
      "source": [
        "The Visible Atmospherically Resistant Index (VARI) is designed to emphasize vegetation in the visible portion of the spectrum while mitigating illumination differences and atmospheric effects. It is ideal for RGB or color images; it utilizes all three color bands."
      ],
      "metadata": {
        "id": "CC_NOh3-u2hQ"
      }
    },
    {
      "cell_type": "code",
      "source": [
        "vari = (arr_st[2] - arr_st[3])/ (arr_st[2] + arr_st[3] - arr_st[1])\n",
        "\n",
        "ep.plot_bands(vari, cmap=\"RdYlGn\", cols=1, vmin=-1, vmax=1, figsize=(10, 14))\n",
        "\n",
        "plt.show()"
      ],
      "metadata": {
        "execution": {
          "iopub.status.busy": "2021-07-04T01:01:48.408502Z",
          "iopub.execute_input": "2021-07-04T01:01:48.408878Z",
          "iopub.status.idle": "2021-07-04T01:01:48.664382Z",
          "shell.execute_reply.started": "2021-07-04T01:01:48.408844Z",
          "shell.execute_reply": "2021-07-04T01:01:48.663477Z"
        },
        "trusted": true,
        "id": "C5ky6jRxu2hQ"
      },
      "execution_count": null,
      "outputs": []
    },
    {
      "cell_type": "markdown",
      "source": [
        "# Water Indices"
      ],
      "metadata": {
        "id": "aRzmtJhPu2hQ"
      }
    },
    {
      "cell_type": "markdown",
      "source": [
        "Surface water change is a very important indicator of environmental, climatic, and anthropogenic activities. Remote sensors, such as sentinel-2, Landsat, have been providing data for the last four decades, which are useful for extracting land cover types such as forest and water. Researchers have proposed many surface water extraction techniques, among which index-based methods are popular owing to their simplicity and cost-effectiveness."
      ],
      "metadata": {
        "id": "CUkacNpMu2hQ"
      }
    },
    {
      "cell_type": "markdown",
      "source": [
        "## Modified Normalized Difference Water Index (MNDWI)"
      ],
      "metadata": {
        "id": "eKcjoqNuu2hQ"
      }
    },
    {
      "cell_type": "markdown",
      "source": [
        "The Modified Normalized Difference Water Index (MNDWI) uses green and SWIR bands for the enhancement of open water features. It also diminishes built-up area features that are often correlated with open water in other indices."
      ],
      "metadata": {
        "id": "K4UACpjUu2hR"
      }
    },
    {
      "cell_type": "code",
      "source": [
        "mndwi = es.normalized_diff(arr_st[2], arr_st[10])\n",
        "\n",
        "ep.plot_bands(mndwi, cmap=\"RdYlGn\", cols=1, vmin=-1, vmax=1, figsize=(10, 14))\n",
        "\n",
        "plt.show()"
      ],
      "metadata": {
        "execution": {
          "iopub.status.busy": "2021-07-04T01:01:48.665858Z",
          "iopub.execute_input": "2021-07-04T01:01:48.666243Z",
          "iopub.status.idle": "2021-07-04T01:01:48.901465Z",
          "shell.execute_reply.started": "2021-07-04T01:01:48.666207Z",
          "shell.execute_reply": "2021-07-04T01:01:48.900625Z"
        },
        "trusted": true,
        "id": "FszdO8vRu2hR"
      },
      "execution_count": null,
      "outputs": []
    },
    {
      "cell_type": "markdown",
      "source": [
        "## Normalized Difference Moisture Index (NDMI)"
      ],
      "metadata": {
        "id": "3TEp3P2pu2hR"
      }
    },
    {
      "cell_type": "markdown",
      "source": [
        "The Normalized Difference Moisture Index (NDMI) is sensitive to the moisture levels in vegetation. It is used to monitor droughts as well as monitor fuel levels in fire-prone areas. It uses NIR and SWIR bands to create a ratio designed to mitigate illumination and atmospheric effects."
      ],
      "metadata": {
        "id": "ZTT4ZD3Zu2hR"
      }
    },
    {
      "cell_type": "code",
      "source": [
        "ndmi = es.normalized_diff(arr_st[7], arr_st[10])\n",
        "\n",
        "ep.plot_bands(ndmi, cmap=\"RdYlGn\", cols=1, vmin=-1, vmax=1, figsize=(10, 14))\n",
        "\n",
        "plt.show()"
      ],
      "metadata": {
        "execution": {
          "iopub.status.busy": "2021-07-04T01:01:48.902619Z",
          "iopub.execute_input": "2021-07-04T01:01:48.902928Z",
          "iopub.status.idle": "2021-07-04T01:01:49.183313Z",
          "shell.execute_reply.started": "2021-07-04T01:01:48.902888Z",
          "shell.execute_reply": "2021-07-04T01:01:49.182535Z"
        },
        "trusted": true,
        "id": "cMoFNPriu2hR"
      },
      "execution_count": null,
      "outputs": []
    },
    {
      "cell_type": "markdown",
      "source": [
        "# Geology Indices"
      ],
      "metadata": {
        "id": "4YzVIdnou2hR"
      }
    },
    {
      "cell_type": "markdown",
      "source": [
        "Satellite imagery and aerial photography have proven to be important tools in support of mineral exploration projects. They can be used in a variety of ways. Firstly they provide geologists and field crews the location of tracks, roads, fences, and inhabited areas."
      ],
      "metadata": {
        "id": "md6b5fmVu2hR"
      }
    },
    {
      "cell_type": "markdown",
      "source": [
        "## Clay Minerals"
      ],
      "metadata": {
        "id": "gZG6Ae6Au2hS"
      }
    },
    {
      "cell_type": "markdown",
      "source": [
        "The clay ratio is a ratio of the SWIR1 and SWIR2 bands. This ratio leverages the fact that hydrous minerals such as clays, alunite absorb radiation in the 2.0–2.3 micron portion of the spectrum. This index mitigates illumination changes due to terrain since it is a ratio."
      ],
      "metadata": {
        "id": "4gVo3lNhu2hY"
      }
    },
    {
      "cell_type": "code",
      "source": [
        "cmr = np.divide(arr_st[10], arr_st[11])\n",
        "\n",
        "ep.plot_bands(cmr, cmap=\"RdYlGn\", cols=1, vmin=-1, vmax=1, figsize=(10, 14))\n",
        "\n",
        "plt.show()"
      ],
      "metadata": {
        "execution": {
          "iopub.status.busy": "2021-07-04T01:01:49.184237Z",
          "iopub.execute_input": "2021-07-04T01:01:49.184489Z",
          "iopub.status.idle": "2021-07-04T01:01:49.460803Z",
          "shell.execute_reply.started": "2021-07-04T01:01:49.184464Z",
          "shell.execute_reply": "2021-07-04T01:01:49.45984Z"
        },
        "trusted": true,
        "id": "PruOPcuru2hY"
      },
      "execution_count": null,
      "outputs": []
    },
    {
      "cell_type": "markdown",
      "source": [
        "## Ferrous Minerals"
      ],
      "metadata": {
        "id": "nVPIu2Tju2hY"
      }
    },
    {
      "cell_type": "markdown",
      "source": [
        "The ferrous minerals ratio highlights iron-bearing materials. It uses the ratio between the SWIR band and the NIR band."
      ],
      "metadata": {
        "id": "xfRJs_Usu2hZ"
      }
    },
    {
      "cell_type": "code",
      "source": [
        "fmr = np.divide(arr_st[10], arr_st[7])\n",
        "\n",
        "ep.plot_bands(fmr, cmap=\"RdYlGn\", cols=1, vmin=-1, vmax=1, figsize=(10, 14))\n",
        "\n",
        "plt.show()"
      ],
      "metadata": {
        "execution": {
          "iopub.status.busy": "2021-07-04T01:01:49.462348Z",
          "iopub.execute_input": "2021-07-04T01:01:49.462739Z",
          "iopub.status.idle": "2021-07-04T01:01:49.754524Z",
          "shell.execute_reply.started": "2021-07-04T01:01:49.462689Z",
          "shell.execute_reply": "2021-07-04T01:01:49.749593Z"
        },
        "trusted": true,
        "id": "cCP9K2gvu2hZ"
      },
      "execution_count": null,
      "outputs": []
    }
  ]
}